{
 "cells": [
  {
   "cell_type": "code",
   "execution_count": 1,
   "id": "443c126a-5e7d-416f-b000-1a0ec850b6bb",
   "metadata": {},
   "outputs": [],
   "source": [
    "import pandas as pd"
   ]
  },
  {
   "cell_type": "markdown",
   "id": "887afd38-d859-4d17-94c8-517cdee76b6c",
   "metadata": {},
   "source": [
    "# install main lib"
   ]
  },
  {
   "cell_type": "code",
   "execution_count": 2,
   "id": "f01809f2-e441-4cb4-86ee-f12491b2e826",
   "metadata": {
    "tags": []
   },
   "outputs": [],
   "source": [
    "import numpy as np\n",
    "import matplotlib.pyplot as plt\n",
    "import seaborn as sns\n",
    "%matplotlib inline"
   ]
  },
  {
   "cell_type": "markdown",
   "id": "227c6e28-e1be-4b08-970c-5ab5fd970bb4",
   "metadata": {},
   "source": [
    "# text summarization using beautifulsoup4"
   ]
  },
  {
   "cell_type": "code",
   "execution_count": 3,
   "id": "04d03f68-f0ff-4bfc-a9ad-1c6df6fec42b",
   "metadata": {},
   "outputs": [],
   "source": [
    "from transformers import pipeline\n",
    "from bs4 import BeautifulSoup\n",
    "import requests"
   ]
  },
  {
   "cell_type": "markdown",
   "id": "948fd31a-c4b5-425e-a378-f3f763622643",
   "metadata": {},
   "source": [
    "# load pipeline summarization"
   ]
  },
  {
   "cell_type": "code",
   "execution_count": 4,
   "id": "74ee096d-d40d-4a68-8e23-a20b1c47897e",
   "metadata": {},
   "outputs": [
    {
     "name": "stderr",
     "output_type": "stream",
     "text": [
      "No model was supplied, defaulted to sshleifer/distilbart-cnn-12-6 (https://huggingface.co/sshleifer/distilbart-cnn-12-6)\n"
     ]
    }
   ],
   "source": [
    "summarizer = pipeline('summarization')"
   ]
  },
  {
   "cell_type": "markdown",
   "id": "b498e5bf-e641-4485-b9dc-590c1ca8ea90",
   "metadata": {},
   "source": [
    "# Get Blog Post From Medium"
   ]
  },
  {
   "cell_type": "code",
   "execution_count": 5,
   "id": "2b628618-e7a0-4948-9a5a-f72c0d7502f4",
   "metadata": {},
   "outputs": [],
   "source": [
    "# URL = \"https://towardsdatascience.com/a-bayesian-take-on-model-regularization-9356116b6457\"\n",
    "URL = \"https://www.britannica.com/science/physics-science\""
   ]
  },
  {
   "cell_type": "code",
   "execution_count": 6,
   "id": "8473289e-0c5b-4ed7-adf0-b4717573a363",
   "metadata": {},
   "outputs": [],
   "source": [
    "r = requests.get(URL)"
   ]
  },
  {
   "cell_type": "code",
   "execution_count": 7,
   "id": "49ef334d-114d-4ea2-888a-1d3b1f5aa467",
   "metadata": {},
   "outputs": [],
   "source": [
    "soup = BeautifulSoup(r.text,('html.parser'))\n",
    "results = soup.find_all(['h1','p'])"
   ]
  },
  {
   "cell_type": "code",
   "execution_count": 8,
   "id": "39568d81-3f08-4c69-bcd7-1b65bcfff3e2",
   "metadata": {},
   "outputs": [],
   "source": [
    "text = [result.text for result in results]\n",
    "article = ' '.join(text)"
   ]
  },
  {
   "cell_type": "markdown",
   "id": "c1a7ac08-d360-495c-a9d5-9c6a1f1287ef",
   "metadata": {},
   "source": [
    "# Chunk Text"
   ]
  },
  {
   "cell_type": "code",
   "execution_count": 9,
   "id": "e2ca3dd5-3b26-4c14-9680-194911b3ff99",
   "metadata": {},
   "outputs": [],
   "source": [
    "# Here eso(end of the sentence here we simply replace . with . but and move anither  line )\n",
    "article = article.replace('.','.<eso>')\n",
    "article = article.replace('!','!<eso>')\n",
    "article = article.replace('?','?<eso>')\n",
    "sentences = article.split('<eso>')"
   ]
  },
  {
   "cell_type": "code",
   "execution_count": 10,
   "id": "c560db93-4052-44c3-97cd-26506dd8fe85",
   "metadata": {},
   "outputs": [
    {
     "data": {
      "text/plain": [
       "'physics Our editors will review what you’ve submitted and determine whether to revise the article.'"
      ]
     },
     "execution_count": 10,
     "metadata": {},
     "output_type": "execute_result"
    }
   ],
   "source": [
    "sentences[0]"
   ]
  },
  {
   "cell_type": "code",
   "execution_count": 11,
   "id": "aac65267-1237-4a2e-9c8d-0d3a4214ade8",
   "metadata": {},
   "outputs": [
    {
     "name": "stdout",
     "output_type": "stream",
     "text": [
      "0\n"
     ]
    }
   ],
   "source": [
    "max_chunk = 500\n",
    "current_chunk = 0\n",
    "chunk = []\n",
    "for sentence in sentences:\n",
    "    if len(chunk)==current_chunk+1:\n",
    "        if len(chunk[current_chunk])+len(sentence.split(' '))<= max_chunk:\n",
    "            chunk[current_chunk].extend(sentence.split(' '))\n",
    "        else:\n",
    "            current_chunk+=1\n",
    "            chunk.append(sentence.split(' '))\n",
    "    else:\n",
    "        print(current_chunk)\n",
    "        chunk.append(sentence.split(' '))"
   ]
  },
  {
   "cell_type": "code",
   "execution_count": 12,
   "id": "0c6327fc-74ec-4537-943b-027c5fed80e9",
   "metadata": {},
   "outputs": [],
   "source": [
    " for chunk_id in range(len(chunk)):\n",
    "        chunk[chunk_id] = ' '.join(chunk[chunk_id])"
   ]
  },
  {
   "cell_type": "code",
   "execution_count": 13,
   "id": "288716ce-f279-4eb6-857a-0944b8fe8457",
   "metadata": {},
   "outputs": [
    {
     "data": {
      "text/plain": [
       "500"
      ]
     },
     "execution_count": 13,
     "metadata": {},
     "output_type": "execute_result"
    }
   ],
   "source": [
    "len(chunk[0].split(' '))"
   ]
  },
  {
   "cell_type": "markdown",
   "id": "e2ad9a2c-eece-4ea7-b85a-b1452014bf5f",
   "metadata": {},
   "source": [
    "# Now Summarize Text"
   ]
  },
  {
   "cell_type": "code",
   "execution_count": 14,
   "id": "b3d6f3d9-69f0-47ec-8535-8a7390051793",
   "metadata": {},
   "outputs": [],
   "source": [
    "res = summarizer(chunk,max_length=100,min_length=30,do_sample=False)"
   ]
  },
  {
   "cell_type": "code",
   "execution_count": 15,
   "id": "d34a1ce6-cda5-4520-b665-22003419ab02",
   "metadata": {},
   "outputs": [
    {
     "data": {
      "text/plain": [
       "3"
      ]
     },
     "execution_count": 15,
     "metadata": {},
     "output_type": "execute_result"
    }
   ],
   "source": [
    "len(res)"
   ]
  },
  {
   "cell_type": "code",
   "execution_count": 16,
   "id": "6e4b9a0c-4d64-4f40-a09d-51a086c660c2",
   "metadata": {},
   "outputs": [
    {
     "data": {
      "text/plain": [
       "' Physics deals with the structure of matter and how the fundamental constituents of the universe interact . It studies objects ranging from the very small using quantum mechanics to the entire universe using general relativity .  The body of physics developed up to about the turn of the 20th century, known as classical physics, can largely account for the motions of macroscopic objects that move slowly with respect to the speed of light . The modern developments of relativity and quantum mechanics modify these laws . The 20th-century subjects of quantum mechanics, crucial to treating the structure of matter, superfluidity, superconductivity, neutron stars, and other major phenomena, are discussed later in this section .  Newton’s third law, that of action and reaction, states that when two particles interact, the forces each exerts on the other are equal in magnitude and opposite in direction . Taken together, these mechanical laws permit the determination of the future motions of a set of particles, providing their state of motion is known at some instant .'"
      ]
     },
     "execution_count": 16,
     "metadata": {},
     "output_type": "execute_result"
    }
   ],
   "source": [
    "' '.join([sum['summary_text'] for sum in res])"
   ]
  },
  {
   "cell_type": "code",
   "execution_count": 17,
   "id": "206b0966-2ad2-4a74-af46-1a3d623e588f",
   "metadata": {},
   "outputs": [
    {
     "data": {
      "text/plain": [
       "' Physics deals with the structure of matter and how the fundamental constituents of the universe interact . It studies objects ranging from the very small using quantum mechanics to the entire universe using general relativity .'"
      ]
     },
     "execution_count": 17,
     "metadata": {},
     "output_type": "execute_result"
    }
   ],
   "source": [
    "res[0]['summary_text']"
   ]
  },
  {
   "cell_type": "markdown",
   "id": "c8c7fae1-4fab-48be-b41f-7ba65f933992",
   "metadata": {},
   "source": [
    "# OutPut in Text File"
   ]
  },
  {
   "cell_type": "code",
   "execution_count": 18,
   "id": "b83e9dd2-c1ba-4c83-8ebc-5b858705a0c8",
   "metadata": {},
   "outputs": [],
   "source": [
    "import spepy as sp"
   ]
  },
  {
   "cell_type": "code",
   "execution_count": 19,
   "id": "3872d7cf-c621-46cd-8859-32b2b2574480",
   "metadata": {},
   "outputs": [],
   "source": [
    "sp.speak(res[0]['summary_text'])"
   ]
  },
  {
   "cell_type": "code",
   "execution_count": 20,
   "id": "c8ed8ba5-f3c0-4085-beae-ff4827af1f6a",
   "metadata": {},
   "outputs": [],
   "source": [
    "text = ' '.join([sum['summary_text'] for sum in res])\n",
    "with open('ArticleSummary.txt','w') as f:\n",
    "    f.write(text)"
   ]
  },
  {
   "cell_type": "code",
   "execution_count": 25,
   "id": "7f320ac4-9393-4b71-b9e6-48367efe34b3",
   "metadata": {},
   "outputs": [],
   "source": [
    "# def stop():\n",
    "#     global speak\n",
    "#     if speak:\n",
    "#         speak.stop()\n",
    "#         speak = None\n",
    "\n",
    "# def pause():\n",
    "#     if speak:\n",
    "#         speak.pause()\n",
    "\n",
    "# def unpause():\n",
    "#     if speak:\n",
    "#         speak.resume()\n",
    "\n",
    "# engine = pyttsx3.init()\n",
    "\n",
    "# text = Text(width=65, height=20, font=\"consolas 14\")\n",
    "# text.pack()\n",
    "\n",
    "# text.insert(END, \"This is a text widget\\n\"*10)\n",
    "\n",
    "# read_button = Button(root, text=\"Read aloud\", command=read)\n",
    "# read_button.pack(pady=20)\n",
    "\n",
    "# pause_button = Button(root, text=\"Pause\", command=pause)\n",
    "# pause_button.pack()\n",
    "\n",
    "# unpause_button = Button(root, text=\"Unpause\", command=unpause)\n",
    "# unpause_button.pack(pady=20)\n",
    "\n",
    "# stop_button = Button(root, text=\"Stop\", command=stop)\n",
    "# stop_button.pack()\n",
    "\n",
    "# mainloop()\n",
    "\n",
    "from tkinter import *\n",
    "import pyttsx3\n",
    "import pygame\n",
    "\n",
    "pygame.mixer.init()\n",
    "engine = pyttsx3.init()\n",
    "\n",
    "root = Tk()\n",
    "\n",
    "def read():\n",
    "    outfile = \"temp.wav\"\n",
    "    engine.save_to_file(text.get('1.0', END), outfile)\n",
    "    engine.runAndWait()\n",
    "    pygame.mixer.music.load(outfile)\n",
    "    pygame.mixer.music.play()\n",
    "\n",
    "def stop():\n",
    "    pygame.mixer.music.stop()\n",
    "\n",
    "def pause():\n",
    "    pygame.mixer.music.pause()\n",
    "\n",
    "def unpause():\n",
    "    pygame.mixer.music.unpause()\n",
    "\n",
    "\n",
    "text = Text(width=65, height=20, font=\"consolas 14\")\n",
    "text.pack()\n",
    "\n",
    "text.insert(END, text)\n",
    "\n",
    "read_button = Button(root, text=\"Read aloud\", command=read)\n",
    "read_button.pack(pady=20)\n",
    "\n",
    "pause_button = Button(root, text=\"Pause\", command=pause)\n",
    "pause_button.pack()\n",
    "\n",
    "unpause_button = Button(root, text=\"Unpause\", command=unpause)\n",
    "unpause_button.pack(pady=20)\n",
    "\n",
    "stop_button = Button(root, text=\"Stop\", command=stop)\n",
    "stop_button.pack()\n",
    "\n",
    "mainloop()"
   ]
  },
  {
   "cell_type": "code",
   "execution_count": null,
   "id": "395e19a8-49dd-46a0-89d3-9a775061e351",
   "metadata": {},
   "outputs": [],
   "source": []
  },
  {
   "cell_type": "code",
   "execution_count": null,
   "id": "3c4fb402-07fc-48d4-9a31-6953ea78dd81",
   "metadata": {},
   "outputs": [],
   "source": []
  },
  {
   "cell_type": "code",
   "execution_count": null,
   "id": "f32ab097-5b3f-4441-b08f-ad5afb740f70",
   "metadata": {},
   "outputs": [],
   "source": []
  },
  {
   "cell_type": "code",
   "execution_count": null,
   "id": "ac68a7d6-32ff-4477-b7d0-6805569cb0b4",
   "metadata": {},
   "outputs": [],
   "source": []
  },
  {
   "cell_type": "code",
   "execution_count": null,
   "id": "0c94601b-adc4-4a92-a5ab-91bb87848328",
   "metadata": {},
   "outputs": [],
   "source": []
  },
  {
   "cell_type": "code",
   "execution_count": null,
   "id": "83f34d72-04fa-4e34-91ca-9dead57869a9",
   "metadata": {},
   "outputs": [],
   "source": []
  },
  {
   "cell_type": "code",
   "execution_count": null,
   "id": "aa546a80-043c-4456-ae21-4037b242e3db",
   "metadata": {},
   "outputs": [],
   "source": []
  },
  {
   "cell_type": "code",
   "execution_count": null,
   "id": "1e4a38b5-95ca-40ab-b96e-e8fe77fc1e52",
   "metadata": {},
   "outputs": [],
   "source": []
  },
  {
   "cell_type": "code",
   "execution_count": null,
   "id": "229e0a9f-2407-4e49-a5ec-6f9a3f416dd4",
   "metadata": {},
   "outputs": [],
   "source": []
  },
  {
   "cell_type": "code",
   "execution_count": null,
   "id": "3468313f-3ccb-4538-8aa9-ce2b08bddb80",
   "metadata": {},
   "outputs": [],
   "source": []
  },
  {
   "cell_type": "code",
   "execution_count": null,
   "id": "19eeb51f-fe52-47c7-a821-42c194da83af",
   "metadata": {},
   "outputs": [],
   "source": []
  },
  {
   "cell_type": "code",
   "execution_count": null,
   "id": "491ab1ff-aac5-4e18-8004-7b0cdbd68446",
   "metadata": {},
   "outputs": [],
   "source": []
  },
  {
   "cell_type": "code",
   "execution_count": null,
   "id": "f68906fb-2b2d-4ec3-9fe8-eabfea9c227f",
   "metadata": {},
   "outputs": [],
   "source": []
  }
 ],
 "metadata": {
  "kernelspec": {
   "display_name": "Python 3 (ipykernel)",
   "language": "python",
   "name": "python3"
  },
  "language_info": {
   "codemirror_mode": {
    "name": "ipython",
    "version": 3
   },
   "file_extension": ".py",
   "mimetype": "text/x-python",
   "name": "python",
   "nbconvert_exporter": "python",
   "pygments_lexer": "ipython3",
   "version": "3.8.10"
  }
 },
 "nbformat": 4,
 "nbformat_minor": 5
}
